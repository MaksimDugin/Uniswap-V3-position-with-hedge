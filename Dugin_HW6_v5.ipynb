{
  "cells": [
    {
      "cell_type": "code",
      "execution_count": null,
      "id": "ed8f3aff",
      "metadata": {
        "id": "ed8f3aff"
      },
      "outputs": [],
      "source": [
        "import requests\n",
        "import warnings\n",
        "import math\n",
        "\n",
        "import pandas as pd\n",
        "import datetime as dt\n",
        "from datetime import date\n",
        "\n",
        "import plotly.express as px\n",
        "\n",
        "from tqdm import tqdm\n",
        "from gql import gql, Client # to use GraphQL\n",
        "from gql.transport.requests import RequestsHTTPTransport\n",
        "\n",
        "%matplotlib inline\n",
        "\n",
        "warnings.filterwarnings('ignore')"
      ]
    },
    {
      "cell_type": "markdown",
      "id": "7effc6df",
      "metadata": {
        "id": "7effc6df"
      },
      "source": [
        "# Uniswap V3 position with hedge"
      ]
    },
    {
      "cell_type": "markdown",
      "metadata": {},
      "source": [
        "Я выбрал изначальный пул, который был рассмотрен на семинаре, потому что одной из монет является стейблкоин, привязанный к доллару, а вторая менее волатильна по сравнению с другими монетами. Я не выбрал пул с двумя стейблкоинами, так как он приносит меньший доход, хотя и более стабилен. Остальные пулы имели меньшую ликвидность, что делало их поведение менее предсказуемым. (Выводы не убрал, потому что некоторые из них считаются больше 10 минут.)"
      ]
    },
    {
      "cell_type": "markdown",
      "id": "5e9185e1",
      "metadata": {
        "id": "5e9185e1"
      },
      "source": [
        "## Заполнение датафрэйма\n",
        "\n",
        "USDC - WETH pool: 0x88e6a0c2ddd26feeb64f039a2c41296fcb3f5640"
      ]
    },
    {
      "cell_type": "code",
      "execution_count": null,
      "metadata": {},
      "outputs": [],
      "source": [
        "# connect to the Uniswap V3 Subgraph\n",
        "uni_transport = RequestsHTTPTransport(\n",
        "    url = 'https://api.thegraph.com/subgraphs/name/uniswap/uniswap-v3',\n",
        "    verify = True,\n",
        "    retries=3,\n",
        ")\n",
        "client = Client(transport = uni_transport)"
      ]
    },
    {
      "cell_type": "code",
      "execution_count": null,
      "id": "42e54402",
      "metadata": {
        "colab": {
          "base_uri": "https://localhost:8080/",
          "height": 423
        },
        "id": "42e54402",
        "outputId": "a5f8e0ba-e6eb-468f-9e28-90308be411f7"
      },
      "outputs": [],
      "source": [
        "data_pool = []\n",
        "\n",
        "# query for the USDC-WETH pool\n",
        "query = gql(\n",
        "    \"\"\"\n",
        "    {\n",
        "        poolDayDatas(\n",
        "            first: 1000\n",
        "            orderBy: date\n",
        "            orderDirection: desc\n",
        "            where: {pool: \"0x88e6a0c2ddd26feeb64f039a2c41296fcb3f5640\"}\n",
        "        ) {\n",
        "            date\n",
        "            token0Price\n",
        "            token1Price\n",
        "            liquidity\n",
        "            volumeUSD\n",
        "        }\n",
        "    }\n",
        "    \"\"\"\n",
        ")\n",
        "\n",
        "\n",
        "result = client.execute(query, variable_values={\"first\": 1000, \"skip\": 0})\n",
        "\n",
        "data = []\n",
        "for i in result['poolDayDatas']:\n",
        "    data.append([\n",
        "        i['date'],\n",
        "        i['token0Price'],\n",
        "        i['token1Price'],\n",
        "        i['liquidity'],\n",
        "        i['volumeUSD']\n",
        "    ])\n",
        "\n",
        "df = pd.DataFrame(data)\n",
        "df.columns = ['date', 'token0Price', 'token1Price', 'liquidity', 'volumeUSD']\n",
        "\n",
        "df['token0Price'] = pd.to_numeric(df['token0Price'])\n",
        "df['token1Price'] = pd.to_numeric(df['token1Price'])\n",
        "df['liquidity'] = [float(num) for num in df['liquidity']]\n",
        "df['USDC/WETH'] = pd.to_numeric(df['token0Price']/df['token1Price'])\n",
        "df['datetime'] = pd.to_datetime(df['date']*1000000000)\n",
        "df['volumeUSD'] = pd.to_numeric(df['volumeUSD'])\n",
        "\n",
        "data_pool = df.copy()\n",
        "data_pool['datetime'] = data_pool['datetime'].dt.date\n",
        "data_pool = data_pool[['token0Price', 'token1Price', 'liquidity', 'datetime', 'volumeUSD']]"
      ]
    },
    {
      "cell_type": "code",
      "execution_count": null,
      "id": "cb1562d7",
      "metadata": {
        "colab": {
          "base_uri": "https://localhost:8080/"
        },
        "id": "cb1562d7",
        "outputId": "b4de83ba-6278-4968-cfa8-5367cde6d122"
      },
      "outputs": [],
      "source": [
        "# funding rates for ETH\n",
        "import time\n",
        "\n",
        "url = 'https://fapi.binance.com/fapi/v1/fundingRate'\n",
        "symbol = 'ETHUSDT'\n",
        "\n",
        "start_time = dt.datetime(2021, 5, 5).timestamp() * 1000\n",
        "end_time = (time.time()-86400)* 1000\n",
        "\n",
        "data = requests.get(url, params={'symbol': symbol, 'startTime': int(start_time)}).json()\n",
        "last_time = data[-1]['fundingTime']\n",
        "\n",
        "\n",
        "while last_time <= end_time:\n",
        "    data.extend(requests.get(url, params={'symbol': symbol, 'startTime': int(last_time)}).json())\n",
        "    last_time = data[-1]['fundingTime']\n",
        "\n",
        "df = pd.DataFrame(data)\n",
        "df['datetime'] = pd.to_datetime(df['fundingTime'], unit='ms')\n",
        "df['fundingRate'] = pd.to_numeric(df['fundingRate'])\n",
        "df = df.drop_duplicates()\n",
        "data_funding = df.copy()\n",
        "data_funding['datetime'] = data_funding['datetime'].dt.date\n",
        "data_funding = data_funding.groupby('datetime').sum()\n",
        "data_funding = data_funding.reset_index()\n",
        "data_funding = data_funding[['datetime', 'fundingRate']]"
      ]
    },
    {
      "cell_type": "code",
      "execution_count": null,
      "metadata": {},
      "outputs": [],
      "source": [
        "all_data = pd.merge(data_pool, data_funding, how=\"left\", on='datetime')\n",
        "all_data = all_data.sort_values('datetime').reset_index().drop('index', axis=1)"
      ]
    },
    {
      "cell_type": "markdown",
      "id": "86a5bba2",
      "metadata": {
        "id": "86a5bba2"
      },
      "source": [
        "## Стратегия и backtest на исторических данных"
      ]
    },
    {
      "cell_type": "code",
      "execution_count": null,
      "id": "b472497d",
      "metadata": {
        "id": "b472497d"
      },
      "outputs": [],
      "source": [
        "class UniswapV3Position:\n",
        "\n",
        "    def __init__(self, token0_amount: float, token1_amount: float, liquidity: float,\n",
        "                 price_current: float, price_upper: float, price_lower: float):\n",
        "        self._token0_amount: float = token0_amount\n",
        "        self._token1_amount: float = token1_amount\n",
        "        self._liquidity: float = liquidity\n",
        "        self._price_current: float = price_current\n",
        "        self._price_init: float = price_current\n",
        "        self._price_upper: float = price_upper\n",
        "        self._price_lower: float = price_lower\n",
        "        self._acc_fees: float = 0\n",
        "\n",
        "    def update_state(self, price: float) -> None:\n",
        "        if price < self._price_lower:\n",
        "            self._token0_amount = 0\n",
        "            self._token1_amount = self._liquidity * (1/(self._price_lower**0.5) - 1/(self._price_upper**0.5))\n",
        "        elif self._price_lower <= price < self._price_upper:\n",
        "            self._token0_amount = self._liquidity * (price**0.5 - self._price_lower**0.5)\n",
        "            self._token1_amount = self._liquidity * (1/(price**0.5) - 1/(self._price_upper**0.5))\n",
        "        else:\n",
        "            self._token0_amount = self._liquidity * (self._price_upper**0.5 - self._price_lower**0.5)\n",
        "            self._token1_amount = 0\n",
        "        self._price_current = price\n",
        "\n",
        "\n",
        "    def balance(self, side: bool = True) -> float:\n",
        "        if side:\n",
        "            return self._token0_amount + self._token1_amount * self._price_current + self._acc_fees\n",
        "        return self._token0_amount / self._price_current + self._token1_amount + self._acc_fees / self._price_current\n",
        "\n",
        "    @classmethod\n",
        "    def price_to_tick(cls, price: float) -> float:\n",
        "        return math.floor(math.log(price, 1.0001))\n",
        "\n",
        "    @classmethod\n",
        "    def tick_to_price(clas, tick: float) -> float:\n",
        "        return 1.0001 ** tick\n",
        "\n",
        "    def __str__(self) -> str:\n",
        "        return f\"token0: {self._token0_amount}, token1: {self._token1_amount}, liquidity: {self._liquidity}, price_current: {self._price_current}, price_upper: {self._price_upper}, price_lower: {self._price_lower}\"\n",
        "\n",
        "    def __repr__(self) -> str:\n",
        "        return self.__str__()\n",
        "\n",
        "\n",
        "def create_position_by_notional(\n",
        "            deposit_amount_in_notional: float,\n",
        "            price_current: float, price_upper: float, price_lower: float,\n",
        "    ) -> UniswapV3Position:\n",
        "        X = deposit_amount_in_notional\n",
        "\n",
        "        liquidity = X / ((price_current**0.5 - price_lower**0.5)  + (1 / price_current**0.5 - 1 / price_upper**0.5) * price_current)\n",
        "        token0_amount = liquidity * (price_current**0.5 - price_lower**0.5)\n",
        "        token1_amount = liquidity * (1 / price_current**0.5 - 1 / price_upper**0.5)\n",
        "\n",
        "        return UniswapV3Position(token0_amount, token1_amount, liquidity, price_current, price_upper, price_lower)"
      ]
    },
    {
      "cell_type": "markdown",
      "metadata": {},
      "source": [
        "Решил выбрать дельта хэджирование. Реализовал его с помощью формул, найденных по ссылке, которую скинули в беседе."
      ]
    },
    {
      "cell_type": "code",
      "execution_count": null,
      "id": "3518b965",
      "metadata": {
        "id": "3518b965"
      },
      "outputs": [],
      "source": [
        "class HedgePosition:\n",
        "    def __init__(self, size: float, entry_price: float):\n",
        "        self._size: float = size\n",
        "        self._entry_price: float = entry_price\n",
        "        self._current_price: float = entry_price\n",
        "\n",
        "    def update_state(self, price: float) -> None:\n",
        "        self._current_price = price\n",
        "\n",
        "    def pnl(self) -> float:\n",
        "        return self._size * (self._current_price - self._entry_price)\n",
        "\n",
        "    def __str__(self) -> str:\n",
        "        return f'BaseHedgePosition(size={self._size}, entry_price={self._entry_price}, current_price={self._current_price})'\n",
        "\n",
        "\n",
        "class Hedge:\n",
        "    def __init__(self):\n",
        "        self._position: HedgePosition = None\n",
        "        self._balance: float = 0\n",
        "        self._current_price: float = None\n",
        "        self._trading_fee: float = 0.0003 # 0.03% комиссия взята с официального сайта\n",
        "\n",
        "    def deposit(self, amount: float):\n",
        "        if amount <= 0:\n",
        "            raise Exception(f'Cannot deposit non-positive amount {amount}')\n",
        "        self._balance += amount\n",
        "\n",
        "    def withdraw(self, amount: float):\n",
        "        if amount > self._balance:\n",
        "            raise Exception(f'Not enough balance to withdraw {amount}, available {self._balance}')\n",
        "        self._balance -= amount\n",
        "\n",
        "    @property\n",
        "    def balance(self) -> float:\n",
        "        return self._balance\n",
        "\n",
        "    @property\n",
        "    def position(self) -> HedgePosition:\n",
        "        return self._position\n",
        "\n",
        "    def margin_balance(self) -> float:\n",
        "        if not self._position:\n",
        "            return self._balance\n",
        "        return self._balance + self._position.pnl()\n",
        "\n",
        "    def update_state(self, price: float, funding: float) -> None:\n",
        "        self._current_price = price\n",
        "        if self._position:\n",
        "            self._position.update_state(price)\n",
        "            self._balance += funding * abs(self._position._size) * self._current_price\n",
        "        self.__check_liquidation()\n",
        "\n",
        "    def open_position(self, size: float, entry_price: float) -> None:\n",
        "        if self._position:\n",
        "            raise Exception(f'Cannot open position, already have one {self._position}')\n",
        "\n",
        "        if size > 0:\n",
        "            raise Exception(f'Cannot open short position {size}')\n",
        "\n",
        "        self._position = HedgePosition(size, entry_price)\n",
        "        self._balance -= abs(size) * entry_price * self._trading_fee\n",
        "\n",
        "    def close_position(self) -> None:\n",
        "        if not self._position:\n",
        "            return\n",
        "        self._balance -= abs(self._position._size) * self._current_price * self._trading_fee\n",
        "        self._balance += self._position.pnl()\n",
        "        self._position = None\n",
        "\n",
        "    def __check_liquidation(self):\n",
        "        if self._position:\n",
        "            # liquidate if margin balance is 5% of the position size\n",
        "            if self.margin_balance() < abs(self._position._size) * 0.05:\n",
        "                self._balance = 0\n",
        "                self._position = None"
      ]
    },
    {
      "cell_type": "code",
      "execution_count": null,
      "id": "dbb041a6",
      "metadata": {
        "id": "dbb041a6"
      },
      "outputs": [],
      "source": [
        "class Strategy:\n",
        "\n",
        "    def __init__(self,\n",
        "                 states: pd.DataFrame,\n",
        "                ):\n",
        "        self._hedge: Hedge = Hedge()\n",
        "        self._pool_position: UniswapV3Position = None\n",
        "        self._states: pd.DataFrame = states\n",
        "        self._data = []\n",
        "\n",
        "    def calculate_std(self, timestamp: dt.datetime) -> float:\n",
        "        return abs(self._states[self._states['datetime'] <= timestamp]['token0Price'].pct_change().std())\n",
        "\n",
        "    def calc_fees(self, price: float, i: dict, liquidity: float): \n",
        "        liquidityAmount1 = self._pool_position._token1_amount * (self._pool_position._price_upper**(0.5) * self._pool_position._price_lower**(0.5)) / (self._pool_position._price_upper**(0.5) - self._pool_position._price_lower**(0.5)) \n",
        "        liquidityAmount0 = self._pool_position._token0_amount / (self._pool_position._price_upper**(0.5) - self._pool_position._price_lower**(0.5)) \n",
        " \n",
        "        if i < 7:\n",
        "            volume24H = self._states.loc[0:i]['volumeUSD'].mean()\n",
        "        else:\n",
        "            volume24H = self._states.loc[(i-7):i]['volumeUSD'].mean()\n",
        "\n",
        "        if price < self._pool_position._price_lower: \n",
        "            deltaL = liquidityAmount1\n",
        "        elif self._pool_position._price_lower <= price < self._pool_position._price_upper: \n",
        "            deltaL = min(liquidityAmount0, liquidityAmount1) \n",
        "        else: \n",
        "            deltaL = liquidityAmount0\n",
        "\n",
        "        self._pool_position._acc_fees += 0.0005 * volume24H * (deltaL/ (liquidity*10**(-12) + deltaL)) # умножаю на 10^(-12), так как L=sqrt(xy) decimals_y=18 decimals_x=6 (-18-6)/2\n",
        "        #print(self._pool_position._token0_amount, type(self._pool_position._token0_amount))\n",
        "        #print(liquidityAmount0, liquidityAmount1, deltaL, liquidity*10**(-12),volume24H)\n",
        "        #print(price, self._pool_position.balance(),self._pool_position._price_upper, self._pool_position._price_lower)\n",
        "        #print(0.0005 * volume24H *  (deltaL / (liquidity*10**(-12) + deltaL)))\n",
        "\n",
        "    def run(self, STD_COUNT: int, START_EQUITY: int):\n",
        "        for i, state in tqdm(self._states.iterrows()):\n",
        "            if i < 45: #рсновной объём появился в середине июня\n",
        "                continue\n",
        "\n",
        "            self._hedge.update_state(state['token0Price'], state['fundingRate'])\n",
        "\n",
        "            if self._pool_position:\n",
        "                self._pool_position.update_state(state['token0Price'])\n",
        "                self.calc_fees(self._pool_position._price_current, i, state['liquidity'])\n",
        "                if self._pool_position._token0_amount * self._pool_position._token1_amount == 0:\n",
        "                    self.rebalance(state, START_EQUITY, STD_COUNT)\n",
        "            else:\n",
        "                self.rebalance(state, START_EQUITY, STD_COUNT)\n",
        "            \n",
        "\n",
        "            self._data.append([\n",
        "                state['datetime'],\n",
        "                state['token0Price'],\n",
        "                self._pool_position.balance(),\n",
        "                self._hedge.margin_balance(),\n",
        "                self._pool_position.balance() + self._hedge.margin_balance(),\n",
        "                self._pool_position._price_upper,\n",
        "                self._pool_position._price_lower,\n",
        "                self._pool_position._acc_fees\n",
        "            ])\n",
        "\n",
        "        return pd.DataFrame(self._data, columns=['datetime', 'price', 'pool_balance', 'hedge_balance', 'total_balance', 'price_upper', 'price_lower', 'fees'])\n",
        "        \n",
        "    def rebalance(self, state, START_EQUITY, STD_COUNT):\n",
        "\n",
        "        std = self.calculate_std(state['datetime'])\n",
        "\n",
        "        if self._pool_position is not None:\n",
        "            pool_balance: float = self._pool_position.balance() * (1-0.005)  # опять же взял 0.001 с binance + 0.003 проскальзывание\n",
        "            self._hedge.close_position()\n",
        "            equity: float = pool_balance + self._hedge.margin_balance()\n",
        "            HEDGE_RATIO = ((self._pool_position._price_upper/self._pool_position._price_lower)**0.25-1)/((self._pool_position._price_upper/self._pool_position._price_lower)**0.5-1)\n",
        "            if HEDGE_RATIO <= 0:\n",
        "                HEDGE_RATIO = 1/3\n",
        "        else:\n",
        "            equity: float = START_EQUITY\n",
        "            HEDGE_RATIO = 1/3\n",
        "\n",
        "        self._hedge.withdraw(self._hedge.margin_balance())\n",
        "        self._hedge.deposit(HEDGE_RATIO * equity)\n",
        "        \n",
        "\n",
        "        self._pool_position = create_position_by_notional(\n",
        "            (1-HEDGE_RATIO)*equity,\n",
        "            price_current=state['token0Price'],\n",
        "            price_upper=state['token0Price'] * (1 + std * STD_COUNT),\n",
        "            price_lower=state['token0Price'] * (1 - std * STD_COUNT),\n",
        "        )\n",
        "        self._hedge.open_position(\n",
        "            size=-(self._pool_position.balance() * HEDGE_RATIO /  (1-HEDGE_RATIO)) / state['token0Price'],\n",
        "            entry_price=state['token0Price'],\n",
        "        )\n"
      ]
    },
    {
      "cell_type": "markdown",
      "metadata": {},
      "source": [
        "Пример с std_count = 3"
      ]
    },
    {
      "cell_type": "code",
      "execution_count": null,
      "id": "fb93523e",
      "metadata": {
        "id": "fb93523e"
      },
      "outputs": [],
      "source": [
        "strategy = Strategy(all_data.sort_values('datetime').reset_index())\n",
        "data = strategy.run(3, 100000)\n",
        "df = pd.DataFrame(data)\n",
        "px.line(df.sort_values('datetime'), x='datetime', y=['pool_balance', 'hedge_balance', 'total_balance'])"
      ]
    },
    {
      "cell_type": "code",
      "execution_count": null,
      "id": "0af60140",
      "metadata": {
        "id": "0af60140",
        "outputId": "25c0fda7-2a16-4f9c-9482-b30ad45f2668"
      },
      "outputs": [],
      "source": [
        "px.line(df, x='datetime', y=['price', 'price_upper', 'price_lower'])"
      ]
    },
    {
      "cell_type": "markdown",
      "metadata": {},
      "source": [
        "Найдём при каком значении достигается максимум."
      ]
    },
    {
      "cell_type": "code",
      "execution_count": null,
      "metadata": {},
      "outputs": [],
      "source": [
        "import numpy as np\n",
        "import plotly.express as px\n",
        "\n",
        "std_counts = np.arange(0.1, 10, 0.1)\n",
        "\n",
        "parameters = []\n",
        "final_total_balances = []\n",
        "\n",
        "for std_count in std_counts:\n",
        "    strategy = Strategy(all_data)\n",
        "    df = pd.DataFrame(strategy.run(std_count, 100000))\n",
        "    df['total_balance'] = df['total_balance'] / df['total_balance'].iloc[0]\n",
        "        \n",
        "    parameters.append(std_count)\n",
        "    final_total_balance = df['total_balance'].iloc[-1]\n",
        "    final_total_balances.append(final_total_balance)\n",
        "\n",
        "data = {'std_count': std_counts, 'total_balance': final_total_balances}\n",
        "df = pd.DataFrame(data)\n",
        "\n",
        "fig = px.line(df, x='std_count', y='total_balance')\n",
        "fig.update_traces(marker=dict(size=5))\n",
        "fig.update_layout(scene=dict(xaxis_title='STD_COUNT', yaxis_title='Total Balance at End'))\n",
        "\n",
        "fig.show()"
      ]
    },
    {
      "cell_type": "code",
      "execution_count": null,
      "metadata": {},
      "outputs": [],
      "source": [
        "import numpy as np\n",
        "import plotly.express as px\n",
        "\n",
        "std_counts = np.arange(0.001, 0.15, 0.001)\n",
        "\n",
        "parameters = []\n",
        "final_total_balances = []\n",
        "\n",
        "for std_count in std_counts:\n",
        "    strategy = Strategy(all_data)\n",
        "    df = pd.DataFrame(strategy.run(std_count, 100000))\n",
        "    df['total_balance'] = df['total_balance'] / df['total_balance'].iloc[0]\n",
        "        \n",
        "    parameters.append(std_count)\n",
        "    final_total_balance = df['total_balance'].iloc[-1]\n",
        "    final_total_balances.append(final_total_balance)\n",
        "\n",
        "data = {'std_count': std_counts, 'total_balance': final_total_balances}\n",
        "df = pd.DataFrame(data)\n",
        "\n",
        "fig = px.line(df, x='std_count', y='total_balance')\n",
        "fig.update_traces(marker=dict(size=5))\n",
        "fig.update_layout(scene=dict(xaxis_title='STD_COUNT', yaxis_title='Total Balance at End'))\n",
        "\n",
        "fig.show()"
      ]
    },
    {
      "cell_type": "markdown",
      "metadata": {},
      "source": [
        "Видно, что чем меньше STD_CONT, тем выше доходность."
      ]
    },
    {
      "cell_type": "markdown",
      "metadata": {},
      "source": [
        "## Метод Монте-Карло с генерацией цены эфириума и сохранением остальных парметров пула."
      ]
    },
    {
      "cell_type": "code",
      "execution_count": null,
      "metadata": {},
      "outputs": [],
      "source": [
        "eth_price_usd = all_data['token0Price']\n",
        "\n",
        "price_changes = eth_price_usd.pct_change().dropna()\n",
        "\n",
        "mu = price_changes.mean()\n",
        "sigma = price_changes.std()\n",
        "\n",
        "print(f\"Среднее ежедневное изменение (mu): {mu}\")\n",
        "print(f\"Стандартное отклонение (sigma): {sigma}\")"
      ]
    },
    {
      "cell_type": "markdown",
      "metadata": {},
      "source": [
        "Заполнение базы данных. Цена генерируется с помощью геометрического броунского движения."
      ]
    },
    {
      "cell_type": "code",
      "execution_count": null,
      "metadata": {},
      "outputs": [],
      "source": [
        "import numpy as np\n",
        "import pandas as pd\n",
        "import math\n",
        "\n",
        "dataframes = []\n",
        "num_dataframes = 10000\n",
        "\n",
        "days = len(all_data)\n",
        "\n",
        "for _ in range(num_dataframes):\n",
        "    S = np.zeros(days + 1)\n",
        "    S[0] = all_data['token0Price'][0]\n",
        "    df = all_data.copy()\n",
        "\n",
        "    for t in range(1, days):\n",
        "        log = np.random.normal(mu - sigma**2 / 2, sigma)\n",
        "        S[t] = math.exp(log) * S[t - 1]\n",
        "        df['token0Price'][t] = S[t]\n",
        "\n",
        "    dataframes.append(df)"
      ]
    },
    {
      "cell_type": "code",
      "execution_count": null,
      "metadata": {},
      "outputs": [],
      "source": [
        "import matplotlib.pyplot as plt\n",
        "\n",
        "plt.figure(figsize=(12, 6))\n",
        "plt.title('Визуализация траекторий token0Price')\n",
        "\n",
        "for df in dataframes:\n",
        "    plt.plot(df['datetime'], df['token0Price'], linewidth=0.5)\n",
        "\n",
        "plt.xlabel('Дата')\n",
        "plt.ylabel('token0Price')\n",
        "plt.grid(True)\n",
        "plt.show()"
      ]
    },
    {
      "cell_type": "markdown",
      "metadata": {},
      "source": [
        "Реализация самого метода"
      ]
    },
    {
      "cell_type": "code",
      "execution_count": null,
      "metadata": {},
      "outputs": [],
      "source": [
        "import numpy as np\n",
        "import plotly.express as px\n",
        "\n",
        "std_counts = [0.1,0.2,0.25,0.5,1,2,3,4,6,8,10] # Выбраны так, потому что из теста на исторических данных видна обратно пропорциональная зависимость результата и std_count\n",
        "\n",
        "parameters = []\n",
        "final_total_balances = []\n",
        "max_total_balances = []\n",
        "corresponding_parameters = []\n",
        "\n",
        "for d in dataframes:\n",
        "    for std_count in std_counts:\n",
        "        strategy = Strategy(d)\n",
        "        df = pd.DataFrame(strategy.run(std_count, 100000))\n",
        "        df['total_balance'] = df['total_balance'] / df['total_balance'].iloc[0]\n",
        "        \n",
        "        parameters.append((std_count))\n",
        "        final_total_balance = df['total_balance'].iloc[-1]\n",
        "        final_total_balances.append(final_total_balance)\n",
        "    max_total_balance = max(final_total_balances)\n",
        "    max_total_balances.append(max_total_balance)\n",
        "    max_total_balance_index = final_total_balances.index(max_total_balance)\n",
        "    corresponding_parameter = parameters[max_total_balance_index] \n",
        "    corresponding_parameters.append(corresponding_parameter)\n",
        "    \n",
        "mean_max_total_balance = np.mean(max_total_balances)\n",
        "mean_corresponding_parameter = np.mean(corresponding_parameters)\n",
        "print(f\"Mean of Maximum Total Balance: {mean_max_total_balance}\")\n",
        "print(f\"Mean of corresponding Parameters (std_count): {mean_corresponding_parameter}\")"
      ]
    },
    {
      "cell_type": "markdown",
      "metadata": {},
      "source": [
        "Этот вывод подтверждает ранее выдвинутую гипотезу."
      ]
    },
    {
      "cell_type": "markdown",
      "metadata": {},
      "source": [
        "## Сценарное моделирование"
      ]
    },
    {
      "cell_type": "markdown",
      "metadata": {},
      "source": [
        "### На росте"
      ]
    },
    {
      "cell_type": "code",
      "execution_count": null,
      "metadata": {},
      "outputs": [],
      "source": [
        "import numpy as np\n",
        "import pandas as pd\n",
        "import math\n",
        "import matplotlib.pyplot as plt\n",
        "\n",
        "dataframes_up = []\n",
        "num_dataframes = 100\n",
        "\n",
        "days = len(all_data)\n",
        "\n",
        "for _ in range(num_dataframes):\n",
        "    S = np.zeros(days + 1)\n",
        "    S[0] = all_data['token0Price'][0]\n",
        "    df = all_data.copy()\n",
        "\n",
        "    for t in range(1, days):\n",
        "        log = np.random.normal(2*mu - sigma**2 / 2, sigma) # увеличили мат ожидание, оно больше 0. А щначит тренд восхлдящий\n",
        "        S[t] = math.exp(log) * S[t - 1]\n",
        "        df['token0Price'][t] = S[t]\n",
        "\n",
        "    dataframes_up.append(df)\n",
        "\n",
        "plt.figure(figsize=(12, 6))\n",
        "plt.title('Визуализация траекторий token0Price с восходящим трендом')\n",
        "\n",
        "for df in dataframes_up:\n",
        "    plt.plot(df['datetime'], df['token0Price'], linewidth=0.5)\n",
        "\n",
        "plt.xlabel('Дата')\n",
        "plt.ylabel('token0Price')\n",
        "plt.grid(True)\n",
        "plt.show()"
      ]
    },
    {
      "cell_type": "code",
      "execution_count": null,
      "metadata": {},
      "outputs": [],
      "source": [
        "import numpy as np\n",
        "import plotly.express as px\n",
        "\n",
        "final_total_balances = []\n",
        "\n",
        "strategy = Strategy(all_data)\n",
        "\n",
        "for d in dataframes_up:\n",
        "    strategy = Strategy(d)\n",
        "    df = pd.DataFrame(strategy.run(0.1, 100000))\n",
        "    df['total_balance'] = df['total_balance'] / df['total_balance'].iloc[0]\n",
        "        \n",
        "    final_total_balance = df['total_balance'].iloc[-1]\n",
        "    final_total_balances.append(final_total_balance)\n",
        "\n",
        "mean_total_balance = np.mean(final_total_balances)\n",
        "\n",
        "print(f\"Mean Total Balance: {mean_total_balance}\")"
      ]
    },
    {
      "cell_type": "markdown",
      "metadata": {},
      "source": [
        "### Flat"
      ]
    },
    {
      "cell_type": "code",
      "execution_count": null,
      "metadata": {},
      "outputs": [],
      "source": [
        "import numpy as np\n",
        "import pandas as pd\n",
        "import math\n",
        "import matplotlib.pyplot as plt\n",
        "\n",
        "dataframes_flat = []\n",
        "num_dataframes = 100\n",
        "\n",
        "days = len(all_data)\n",
        "\n",
        "for _ in range(num_dataframes):\n",
        "    S = np.zeros(days + 1)\n",
        "    S[0] = all_data['token0Price'][0]\n",
        "    df = all_data.copy()\n",
        "\n",
        "    for t in range(1, days):\n",
        "        log = np.random.normal(0, sigma) \n",
        "        S[t] = math.exp(log) * S[t - 1]\n",
        "        df['token0Price'][t] = S[t]\n",
        "\n",
        "    dataframes_flat.append(df)\n",
        "\n",
        "plt.figure(figsize=(12, 6))\n",
        "plt.title('Визуализация траекторий token0Price flat')\n",
        "\n",
        "for df in dataframes_flat:\n",
        "    plt.plot(df['datetime'], df['token0Price'], linewidth=0.5)\n",
        "\n",
        "plt.xlabel('Дата')\n",
        "plt.ylabel('token0Price')\n",
        "plt.grid(True)\n",
        "plt.show()"
      ]
    },
    {
      "cell_type": "code",
      "execution_count": null,
      "metadata": {},
      "outputs": [],
      "source": [
        "import numpy as np\n",
        "import plotly.express as px\n",
        "\n",
        "final_total_balances = []\n",
        "\n",
        "\n",
        "for d in dataframes_flat:\n",
        "    strategy = Strategy(d)\n",
        "\n",
        "    df = pd.DataFrame(strategy.run(0.1, 100000))\n",
        "    df['total_balance'] = df['total_balance'] / df['total_balance'].iloc[0]\n",
        "        \n",
        "    final_total_balance = df['total_balance'].iloc[-1]\n",
        "    final_total_balances.append(final_total_balance)\n",
        "\n",
        "mean_total_balance = np.mean(final_total_balances)\n",
        "\n",
        "print(f\"Mean Total Balance: {mean_total_balance}\")"
      ]
    },
    {
      "cell_type": "markdown",
      "metadata": {},
      "source": [
        "### На падении"
      ]
    },
    {
      "cell_type": "code",
      "execution_count": null,
      "metadata": {},
      "outputs": [],
      "source": [
        "import numpy as np\n",
        "import pandas as pd\n",
        "import math\n",
        "import matplotlib.pyplot as plt\n",
        "\n",
        "dataframes_down = []\n",
        "num_dataframes = 100\n",
        "\n",
        "days = len(all_data)\n",
        "\n",
        "for _ in range(num_dataframes):\n",
        "    S = np.zeros(days + 1)\n",
        "    S[0] = all_data['token0Price'][0]\n",
        "    df = all_data.copy()\n",
        "\n",
        "    for t in range(1, days):\n",
        "        log = np.random.normal(mu / 2 - sigma**2 / 2, sigma) \n",
        "        S[t] = math.exp(log) * S[t - 1]\n",
        "        df['token0Price'][t] = S[t]\n",
        "\n",
        "    dataframes_down.append(df)\n",
        "\n",
        "plt.figure(figsize=(12, 6))\n",
        "plt.title('Визуализация траекторий token0Price flat')\n",
        "\n",
        "for df in dataframes_down:\n",
        "    plt.plot(df['datetime'], df['token0Price'], linewidth=0.5)\n",
        "\n",
        "plt.xlabel('Дата')\n",
        "plt.ylabel('token0Price')\n",
        "plt.grid(True)\n",
        "plt.show()"
      ]
    },
    {
      "cell_type": "code",
      "execution_count": null,
      "metadata": {},
      "outputs": [],
      "source": [
        "import numpy as np\n",
        "import plotly.express as px\n",
        "\n",
        "parameters = []\n",
        "final_total_balances = []\n",
        "\n",
        "\n",
        "for d in dataframes_down:\n",
        "    strategy = Strategy(d)\n",
        "\n",
        "    df = pd.DataFrame(strategy.run(0.1, 100000))\n",
        "    df['total_balance'] = df['total_balance'] / df['total_balance'].iloc[0]\n",
        "        \n",
        "    final_total_balance = df['total_balance'].iloc[-1]\n",
        "    final_total_balances.append(final_total_balance)\n",
        "\n",
        "mean_total_balance = np.mean(final_total_balances)\n",
        "\n",
        "print(f\"Mean Total Balance: {mean_total_balance}\")"
      ]
    },
    {
      "cell_type": "markdown",
      "metadata": {},
      "source": [
        "Стратегия лучше показывает себя на падении. Это связано с тем, что существенную часть бюджет составляет хэджирование, а оно сделано лучше, чем сама стратегия."
      ]
    },
    {
      "cell_type": "markdown",
      "metadata": {},
      "source": [
        "# Вывод"
      ]
    },
    {
      "cell_type": "markdown",
      "metadata": {},
      "source": [
        "Проведя исследование и разработав стратегию активного предоставления ликвидности в пуле на Uniswap V3 с дельта-нейтральным хеджированием позиции, я пришел к следующим выводам:\n",
        "\n",
        "1. **Реалистичность стратегии**: По результатам бектестов и симуляций, стратегия, разработанная мной, хоть и показала высокую доходность, но оказалась не применимой в реальности, так как она основывается на ежедневном перемещении диапазона. Дни в данной модели - это точки. И в какой момент времени перемещать диапазон не понятно. А из-за того, что он маленький, цена за день с большой вероятностью выйдет за пределы установленного диапазона и комиссий мы не получим.\n",
        "\n",
        "2. **Необходимость в симуляциях Монте-Карло**: Важным шагом оказалась симуляция Монте-Карло для оценки стратегии на разных траекториях цен. Это позволило оценить, как стратегия работает в разных сценариях, что особенно важно на волатильных криптовалютных рынках. Благодаря данному методу можно придти к мысли, что хэджирование сделанно верно.\n",
        "\n",
        "3. **Уроки и дальнейшие шаги**: Из этого опыта я извлек важные уроки о сложности предоставления ликвидности на криптовалютных биржах. Для улучшения стратегии необходимо более глубокое исследование рынка, разработка более сложных моделей и учет большего количества факторов.\n",
        "\n",
        "В заключение, хочу подчеркнуть, что разработка стратегии активного предоставления ликвидности на Uniswap V3 с хеджированием позиции – это сложная и многогранная задача. Несмотря на то, что моя стратегия не оказалась успешной, я смог больше понять Uniswap V3, а также узнать, как работать с API, датафреймами и классами."
      ]
    }
  ],
  "metadata": {
    "colab": {
      "provenance": []
    },
    "kernelspec": {
      "display_name": "Python 3",
      "language": "python",
      "name": "python3"
    },
    "language_info": {
      "codemirror_mode": {
        "name": "ipython",
        "version": 3
      },
      "file_extension": ".py",
      "mimetype": "text/x-python",
      "name": "python",
      "nbconvert_exporter": "python",
      "pygments_lexer": "ipython3",
      "version": "3.12.0"
    }
  },
  "nbformat": 4,
  "nbformat_minor": 5
}
